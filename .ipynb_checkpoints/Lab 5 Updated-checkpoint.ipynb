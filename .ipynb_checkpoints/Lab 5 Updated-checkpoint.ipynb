{
 "cells": [
  {
   "cell_type": "markdown",
   "id": "b233a58d",
   "metadata": {
    "id": "b233a58d"
   },
   "source": [
    "# <font color=darkblue> Machine Learning model deployment with Flask framework</font>"
   ]
  },
  {
   "cell_type": "markdown",
   "id": "2c4b2479",
   "metadata": {
    "id": "2c4b2479"
   },
   "source": [
    "## <font color=Blue>Used Cars Price Prediction Application</font>"
   ]
  },
  {
   "cell_type": "markdown",
   "id": "bad7f286",
   "metadata": {
    "id": "bad7f286"
   },
   "source": [
    "### Objective:\n",
    "1. To build a Machine learning regression model to predict the selling price of the used cars based on the different input features like fuel_type, kms_driven, type of transmission etc.\n",
    "2. Deploy the machine learning model with the help of the flask framework."
   ]
  },
  {
   "cell_type": "markdown",
   "id": "3c741642",
   "metadata": {
    "id": "3c741642"
   },
   "source": [
    "### Dataset Information:\n",
    "#### Dataset Source: https://www.kaggle.com/datasets/nehalbirla/vehicle-dataset-from-cardekho?select=CAR+DETAILS+FROM+CAR+DEKHO.csv\n",
    "This dataset contains information about used cars listed on www.cardekho.com\n",
    "- **Car_Name**: Name of the car\n",
    "- **Year**: Year of Purchase\n",
    "- **Selling Price (target)**: Selling price of the car in lakhs\n",
    "- **Present Price**: Present price of the car in lakhs\n",
    "- **Kms_Driven**: kilometers driven\n",
    "- **Fuel_Type**: Petrol/diesel/CNG\n",
    "- **Seller_Type**: Dealer or Indiviual\n",
    "- **Transmission**: Manual or Automatic\n",
    "- **Owner**: first, second or third owner\n"
   ]
  },
  {
   "cell_type": "markdown",
   "id": "a340f92c",
   "metadata": {
    "id": "a340f92c"
   },
   "source": [
    "### 1. Import required libraries"
   ]
  },
  {
   "cell_type": "code",
   "execution_count": 1,
   "id": "DekbG2Sm7L00",
   "metadata": {
    "id": "DekbG2Sm7L00"
   },
   "outputs": [],
   "source": [
    "import pandas as pd\n",
    "import numpy as np\n",
    "import seaborn as sns\n",
    "import matplotlib.pyplot as plt\n",
    "%matplotlib inline\n",
    "\n",
    "from sklearn.preprocessing import StandardScaler\n",
    "from sklearn.model_selection import train_test_split\n",
    "from sklearn.ensemble import RandomForestRegressor\n",
    "from sklearn.metrics import r2_score\n",
    "from sklearn.metrics import accuracy_score, confusion_matrix\n",
    "\n",
    "import warnings\n",
    "warnings.filterwarnings('ignore')"
   ]
  },
  {
   "cell_type": "markdown",
   "id": "38a2da95",
   "metadata": {
    "id": "38a2da95"
   },
   "source": [
    "### 2. Load the dataset"
   ]
  },
  {
   "cell_type": "code",
   "execution_count": 2,
   "id": "LS5P5wps7MOv",
   "metadata": {
    "id": "LS5P5wps7MOv"
   },
   "outputs": [
    {
     "data": {
      "text/html": [
       "<div>\n",
       "<style scoped>\n",
       "    .dataframe tbody tr th:only-of-type {\n",
       "        vertical-align: middle;\n",
       "    }\n",
       "\n",
       "    .dataframe tbody tr th {\n",
       "        vertical-align: top;\n",
       "    }\n",
       "\n",
       "    .dataframe thead th {\n",
       "        text-align: right;\n",
       "    }\n",
       "</style>\n",
       "<table border=\"1\" class=\"dataframe\">\n",
       "  <thead>\n",
       "    <tr style=\"text-align: right;\">\n",
       "      <th></th>\n",
       "      <th>Car_Name</th>\n",
       "      <th>Year</th>\n",
       "      <th>Selling_Price</th>\n",
       "      <th>Present_Price</th>\n",
       "      <th>Kms_Driven</th>\n",
       "      <th>Fuel_Type</th>\n",
       "      <th>Seller_Type</th>\n",
       "      <th>Transmission</th>\n",
       "      <th>Owner</th>\n",
       "    </tr>\n",
       "  </thead>\n",
       "  <tbody>\n",
       "    <tr>\n",
       "      <th>0</th>\n",
       "      <td>ritz</td>\n",
       "      <td>2014</td>\n",
       "      <td>3.35</td>\n",
       "      <td>5.59</td>\n",
       "      <td>27000</td>\n",
       "      <td>Petrol</td>\n",
       "      <td>Dealer</td>\n",
       "      <td>Manual</td>\n",
       "      <td>0</td>\n",
       "    </tr>\n",
       "    <tr>\n",
       "      <th>1</th>\n",
       "      <td>sx4</td>\n",
       "      <td>2013</td>\n",
       "      <td>4.75</td>\n",
       "      <td>9.54</td>\n",
       "      <td>43000</td>\n",
       "      <td>Diesel</td>\n",
       "      <td>Dealer</td>\n",
       "      <td>Manual</td>\n",
       "      <td>0</td>\n",
       "    </tr>\n",
       "    <tr>\n",
       "      <th>2</th>\n",
       "      <td>ciaz</td>\n",
       "      <td>2017</td>\n",
       "      <td>7.25</td>\n",
       "      <td>9.85</td>\n",
       "      <td>6900</td>\n",
       "      <td>Petrol</td>\n",
       "      <td>Dealer</td>\n",
       "      <td>Manual</td>\n",
       "      <td>0</td>\n",
       "    </tr>\n",
       "    <tr>\n",
       "      <th>3</th>\n",
       "      <td>wagon r</td>\n",
       "      <td>2011</td>\n",
       "      <td>2.85</td>\n",
       "      <td>4.15</td>\n",
       "      <td>5200</td>\n",
       "      <td>Petrol</td>\n",
       "      <td>Dealer</td>\n",
       "      <td>Manual</td>\n",
       "      <td>0</td>\n",
       "    </tr>\n",
       "    <tr>\n",
       "      <th>4</th>\n",
       "      <td>swift</td>\n",
       "      <td>2014</td>\n",
       "      <td>4.60</td>\n",
       "      <td>6.87</td>\n",
       "      <td>42450</td>\n",
       "      <td>Diesel</td>\n",
       "      <td>Dealer</td>\n",
       "      <td>Manual</td>\n",
       "      <td>0</td>\n",
       "    </tr>\n",
       "  </tbody>\n",
       "</table>\n",
       "</div>"
      ],
      "text/plain": [
       "  Car_Name  Year  Selling_Price  Present_Price  Kms_Driven Fuel_Type  \\\n",
       "0     ritz  2014           3.35           5.59       27000    Petrol   \n",
       "1      sx4  2013           4.75           9.54       43000    Diesel   \n",
       "2     ciaz  2017           7.25           9.85        6900    Petrol   \n",
       "3  wagon r  2011           2.85           4.15        5200    Petrol   \n",
       "4    swift  2014           4.60           6.87       42450    Diesel   \n",
       "\n",
       "  Seller_Type Transmission  Owner  \n",
       "0      Dealer       Manual      0  \n",
       "1      Dealer       Manual      0  \n",
       "2      Dealer       Manual      0  \n",
       "3      Dealer       Manual      0  \n",
       "4      Dealer       Manual      0  "
      ]
     },
     "execution_count": 2,
     "metadata": {},
     "output_type": "execute_result"
    }
   ],
   "source": [
    "df = pd.read_csv('car+data.csv')\n",
    "df.head(5)"
   ]
  },
  {
   "cell_type": "markdown",
   "id": "26ecd9c6",
   "metadata": {
    "id": "26ecd9c6"
   },
   "source": [
    "### 3. Check the shape and basic information of the dataset."
   ]
  },
  {
   "cell_type": "code",
   "execution_count": 3,
   "id": "wd8XSTpf7Mng",
   "metadata": {
    "id": "wd8XSTpf7Mng"
   },
   "outputs": [
    {
     "data": {
      "text/plain": [
       "(301, 9)"
      ]
     },
     "execution_count": 3,
     "metadata": {},
     "output_type": "execute_result"
    }
   ],
   "source": [
    "## check the shape\n",
    "df.shape"
   ]
  },
  {
   "cell_type": "code",
   "execution_count": 4,
   "id": "c566694e",
   "metadata": {},
   "outputs": [
    {
     "name": "stdout",
     "output_type": "stream",
     "text": [
      "<class 'pandas.core.frame.DataFrame'>\n",
      "RangeIndex: 301 entries, 0 to 300\n",
      "Data columns (total 9 columns):\n",
      " #   Column         Non-Null Count  Dtype  \n",
      "---  ------         --------------  -----  \n",
      " 0   Car_Name       301 non-null    object \n",
      " 1   Year           301 non-null    int64  \n",
      " 2   Selling_Price  301 non-null    float64\n",
      " 3   Present_Price  301 non-null    float64\n",
      " 4   Kms_Driven     301 non-null    int64  \n",
      " 5   Fuel_Type      301 non-null    object \n",
      " 6   Seller_Type    301 non-null    object \n",
      " 7   Transmission   301 non-null    object \n",
      " 8   Owner          301 non-null    int64  \n",
      "dtypes: float64(2), int64(3), object(4)\n",
      "memory usage: 21.3+ KB\n"
     ]
    }
   ],
   "source": [
    "## check basic information of the dataset\n",
    "df.info()"
   ]
  },
  {
   "cell_type": "markdown",
   "id": "758e5697",
   "metadata": {},
   "source": [
    "- There are total 9 columns and 301 entries in each column\n",
    "- of these, 2 are float datatype, 3 are int datatype and 4 are of object datatype"
   ]
  },
  {
   "cell_type": "markdown",
   "id": "06991b14",
   "metadata": {
    "id": "06991b14"
   },
   "source": [
    "### 4. Check for the presence of the duplicate records in the dataset? If present drop them"
   ]
  },
  {
   "cell_type": "code",
   "execution_count": 5,
   "id": "-u5XA5d47Nbe",
   "metadata": {
    "id": "-u5XA5d47Nbe"
   },
   "outputs": [
    {
     "data": {
      "text/plain": [
       "2"
      ]
     },
     "execution_count": 5,
     "metadata": {},
     "output_type": "execute_result"
    }
   ],
   "source": [
    "# checking number of duplicate records\n",
    "len(df[df.duplicated()])"
   ]
  },
  {
   "cell_type": "markdown",
   "id": "1e38c531",
   "metadata": {},
   "source": [
    "- We can observe that there are 2 duplicate records"
   ]
  },
  {
   "cell_type": "code",
   "execution_count": 6,
   "id": "ee0f7809",
   "metadata": {},
   "outputs": [],
   "source": [
    "# Dropping the duplicate records\n",
    "df = df.drop_duplicates()"
   ]
  },
  {
   "cell_type": "code",
   "execution_count": 7,
   "id": "efbdec02",
   "metadata": {},
   "outputs": [
    {
     "data": {
      "text/plain": [
       "0"
      ]
     },
     "execution_count": 7,
     "metadata": {},
     "output_type": "execute_result"
    }
   ],
   "source": [
    "# checking the length after dropping duplicate records\n",
    "len(df[df.duplicated()])"
   ]
  },
  {
   "cell_type": "markdown",
   "id": "367efc0b",
   "metadata": {
    "id": "367efc0b"
   },
   "source": [
    "### 5. Drop the columns which you think redundant for the analysis."
   ]
  },
  {
   "cell_type": "code",
   "execution_count": 8,
   "id": "gPMZesyr7OHb",
   "metadata": {
    "id": "gPMZesyr7OHb"
   },
   "outputs": [],
   "source": [
    "# dropping columns which are redundant for analysis\n",
    "df.drop(['Car_Name'],axis=1, inplace=True)"
   ]
  },
  {
   "cell_type": "code",
   "execution_count": 9,
   "id": "430e189b",
   "metadata": {},
   "outputs": [
    {
     "data": {
      "text/html": [
       "<div>\n",
       "<style scoped>\n",
       "    .dataframe tbody tr th:only-of-type {\n",
       "        vertical-align: middle;\n",
       "    }\n",
       "\n",
       "    .dataframe tbody tr th {\n",
       "        vertical-align: top;\n",
       "    }\n",
       "\n",
       "    .dataframe thead th {\n",
       "        text-align: right;\n",
       "    }\n",
       "</style>\n",
       "<table border=\"1\" class=\"dataframe\">\n",
       "  <thead>\n",
       "    <tr style=\"text-align: right;\">\n",
       "      <th></th>\n",
       "      <th>Year</th>\n",
       "      <th>Selling_Price</th>\n",
       "      <th>Present_Price</th>\n",
       "      <th>Kms_Driven</th>\n",
       "      <th>Fuel_Type</th>\n",
       "      <th>Seller_Type</th>\n",
       "      <th>Transmission</th>\n",
       "      <th>Owner</th>\n",
       "    </tr>\n",
       "  </thead>\n",
       "  <tbody>\n",
       "    <tr>\n",
       "      <th>0</th>\n",
       "      <td>2014</td>\n",
       "      <td>3.35</td>\n",
       "      <td>5.59</td>\n",
       "      <td>27000</td>\n",
       "      <td>Petrol</td>\n",
       "      <td>Dealer</td>\n",
       "      <td>Manual</td>\n",
       "      <td>0</td>\n",
       "    </tr>\n",
       "    <tr>\n",
       "      <th>1</th>\n",
       "      <td>2013</td>\n",
       "      <td>4.75</td>\n",
       "      <td>9.54</td>\n",
       "      <td>43000</td>\n",
       "      <td>Diesel</td>\n",
       "      <td>Dealer</td>\n",
       "      <td>Manual</td>\n",
       "      <td>0</td>\n",
       "    </tr>\n",
       "  </tbody>\n",
       "</table>\n",
       "</div>"
      ],
      "text/plain": [
       "   Year  Selling_Price  Present_Price  Kms_Driven Fuel_Type Seller_Type  \\\n",
       "0  2014           3.35           5.59       27000    Petrol      Dealer   \n",
       "1  2013           4.75           9.54       43000    Diesel      Dealer   \n",
       "\n",
       "  Transmission  Owner  \n",
       "0       Manual      0  \n",
       "1       Manual      0  "
      ]
     },
     "execution_count": 9,
     "metadata": {},
     "output_type": "execute_result"
    }
   ],
   "source": [
    "df.head(2)"
   ]
  },
  {
   "cell_type": "markdown",
   "id": "7fb3674f",
   "metadata": {
    "id": "7fb3674f"
   },
   "source": [
    "### 6. Extract a new feature called 'age_of_the_car' from the feature 'year' and drop the feature year"
   ]
  },
  {
   "cell_type": "code",
   "execution_count": 10,
   "id": "-E8ZwwvE7Oe_",
   "metadata": {
    "id": "-E8ZwwvE7Oe_"
   },
   "outputs": [],
   "source": [
    "# subtracting the year of purchase with current year to get age of car\n",
    "df['age_of_the_car'] = 2022-df['Year']"
   ]
  },
  {
   "cell_type": "code",
   "execution_count": 11,
   "id": "8df0f6da",
   "metadata": {},
   "outputs": [],
   "source": [
    "# dropping column year\n",
    "df = df.drop('Year', axis=1)"
   ]
  },
  {
   "cell_type": "code",
   "execution_count": 12,
   "id": "d1d8af5c",
   "metadata": {},
   "outputs": [
    {
     "data": {
      "text/html": [
       "<div>\n",
       "<style scoped>\n",
       "    .dataframe tbody tr th:only-of-type {\n",
       "        vertical-align: middle;\n",
       "    }\n",
       "\n",
       "    .dataframe tbody tr th {\n",
       "        vertical-align: top;\n",
       "    }\n",
       "\n",
       "    .dataframe thead th {\n",
       "        text-align: right;\n",
       "    }\n",
       "</style>\n",
       "<table border=\"1\" class=\"dataframe\">\n",
       "  <thead>\n",
       "    <tr style=\"text-align: right;\">\n",
       "      <th></th>\n",
       "      <th>Selling_Price</th>\n",
       "      <th>Present_Price</th>\n",
       "      <th>Kms_Driven</th>\n",
       "      <th>Fuel_Type</th>\n",
       "      <th>Seller_Type</th>\n",
       "      <th>Transmission</th>\n",
       "      <th>Owner</th>\n",
       "      <th>age_of_the_car</th>\n",
       "    </tr>\n",
       "  </thead>\n",
       "  <tbody>\n",
       "    <tr>\n",
       "      <th>0</th>\n",
       "      <td>3.35</td>\n",
       "      <td>5.59</td>\n",
       "      <td>27000</td>\n",
       "      <td>Petrol</td>\n",
       "      <td>Dealer</td>\n",
       "      <td>Manual</td>\n",
       "      <td>0</td>\n",
       "      <td>8</td>\n",
       "    </tr>\n",
       "    <tr>\n",
       "      <th>1</th>\n",
       "      <td>4.75</td>\n",
       "      <td>9.54</td>\n",
       "      <td>43000</td>\n",
       "      <td>Diesel</td>\n",
       "      <td>Dealer</td>\n",
       "      <td>Manual</td>\n",
       "      <td>0</td>\n",
       "      <td>9</td>\n",
       "    </tr>\n",
       "  </tbody>\n",
       "</table>\n",
       "</div>"
      ],
      "text/plain": [
       "   Selling_Price  Present_Price  Kms_Driven Fuel_Type Seller_Type  \\\n",
       "0           3.35           5.59       27000    Petrol      Dealer   \n",
       "1           4.75           9.54       43000    Diesel      Dealer   \n",
       "\n",
       "  Transmission  Owner  age_of_the_car  \n",
       "0       Manual      0               8  \n",
       "1       Manual      0               9  "
      ]
     },
     "execution_count": 12,
     "metadata": {},
     "output_type": "execute_result"
    }
   ],
   "source": [
    "df.head(2)"
   ]
  },
  {
   "cell_type": "markdown",
   "id": "8f3a144b",
   "metadata": {
    "id": "8f3a144b"
   },
   "source": [
    "### 7. Encode the categorical columns"
   ]
  },
  {
   "cell_type": "code",
   "execution_count": 13,
   "id": "EUwBNILZ7PT9",
   "metadata": {
    "id": "EUwBNILZ7PT9"
   },
   "outputs": [
    {
     "data": {
      "text/plain": [
       "array(['Petrol', 'Diesel', 'CNG'], dtype=object)"
      ]
     },
     "execution_count": 13,
     "metadata": {},
     "output_type": "execute_result"
    }
   ],
   "source": [
    "df['Fuel_Type'].unique()"
   ]
  },
  {
   "cell_type": "code",
   "execution_count": 14,
   "id": "70d2b46b",
   "metadata": {},
   "outputs": [
    {
     "data": {
      "text/plain": [
       "array(['Dealer', 'Individual'], dtype=object)"
      ]
     },
     "execution_count": 14,
     "metadata": {},
     "output_type": "execute_result"
    }
   ],
   "source": [
    "df['Seller_Type'].unique()"
   ]
  },
  {
   "cell_type": "code",
   "execution_count": 15,
   "id": "cf278873",
   "metadata": {},
   "outputs": [
    {
     "data": {
      "text/plain": [
       "array(['Manual', 'Automatic'], dtype=object)"
      ]
     },
     "execution_count": 15,
     "metadata": {},
     "output_type": "execute_result"
    }
   ],
   "source": [
    "df['Transmission'].unique()"
   ]
  },
  {
   "cell_type": "code",
   "execution_count": 16,
   "id": "5ec630fd",
   "metadata": {},
   "outputs": [],
   "source": [
    "## Manual encoding:\n",
    "df['Fuel_Type'] = df['Fuel_Type'].replace({'Petrol':0, 'Diesel':1,'CNG':2})\n",
    "df['Seller_Type'] = df['Seller_Type'].replace({'Dealer':0, 'Individual':1})\n",
    "df['Transmission'] = df['Transmission'].replace({'Manual':0, 'Automatic':1})"
   ]
  },
  {
   "cell_type": "code",
   "execution_count": 17,
   "id": "56873954",
   "metadata": {},
   "outputs": [
    {
     "data": {
      "text/plain": [
       "array([0, 1, 2], dtype=int64)"
      ]
     },
     "execution_count": 17,
     "metadata": {},
     "output_type": "execute_result"
    }
   ],
   "source": [
    "df['Fuel_Type'].unique()"
   ]
  },
  {
   "cell_type": "code",
   "execution_count": 18,
   "id": "07662701",
   "metadata": {},
   "outputs": [
    {
     "data": {
      "text/plain": [
       "array([0, 1], dtype=int64)"
      ]
     },
     "execution_count": 18,
     "metadata": {},
     "output_type": "execute_result"
    }
   ],
   "source": [
    "df['Seller_Type'].unique()"
   ]
  },
  {
   "cell_type": "code",
   "execution_count": 19,
   "id": "3578cc0d",
   "metadata": {},
   "outputs": [
    {
     "data": {
      "text/plain": [
       "array([0, 1], dtype=int64)"
      ]
     },
     "execution_count": 19,
     "metadata": {},
     "output_type": "execute_result"
    }
   ],
   "source": [
    "df['Transmission'].unique()"
   ]
  },
  {
   "cell_type": "markdown",
   "id": "8afe4984",
   "metadata": {
    "id": "8afe4984"
   },
   "source": [
    "### 8. Separate the target and independent features."
   ]
  },
  {
   "cell_type": "code",
   "execution_count": 20,
   "id": "39E39X1y7Pvq",
   "metadata": {
    "id": "39E39X1y7Pvq"
   },
   "outputs": [],
   "source": [
    "X = df.drop('Selling_Price', axis=1)\n",
    "y = df['Selling_Price']"
   ]
  },
  {
   "cell_type": "markdown",
   "id": "e12c5ef9",
   "metadata": {
    "id": "e12c5ef9"
   },
   "source": [
    "### 9. Split the data into train and test."
   ]
  },
  {
   "cell_type": "code",
   "execution_count": 21,
   "id": "gvxCw7PF7Qon",
   "metadata": {
    "id": "gvxCw7PF7Qon"
   },
   "outputs": [
    {
     "name": "stdout",
     "output_type": "stream",
     "text": [
      "(209, 7) (90, 7)\n",
      "(209,) (90,)\n"
     ]
    }
   ],
   "source": [
    "X_train,X_test,y_train,y_test = train_test_split(X,y,test_size=0.3,random_state=0)\n",
    "\n",
    "print(X_train.shape,X_test.shape)\n",
    "print(y_train.shape,y_test.shape)"
   ]
  },
  {
   "cell_type": "markdown",
   "id": "e86fbc33",
   "metadata": {
    "id": "e86fbc33"
   },
   "source": [
    "### 10. Build a Random forest Regressor model and check the r2-score for train and test."
   ]
  },
  {
   "cell_type": "code",
   "execution_count": 22,
   "id": "IiEKH-kh7Rsw",
   "metadata": {
    "id": "IiEKH-kh7Rsw"
   },
   "outputs": [
    {
     "data": {
      "text/html": [
       "<style>#sk-container-id-1 {color: black;}#sk-container-id-1 pre{padding: 0;}#sk-container-id-1 div.sk-toggleable {background-color: white;}#sk-container-id-1 label.sk-toggleable__label {cursor: pointer;display: block;width: 100%;margin-bottom: 0;padding: 0.3em;box-sizing: border-box;text-align: center;}#sk-container-id-1 label.sk-toggleable__label-arrow:before {content: \"▸\";float: left;margin-right: 0.25em;color: #696969;}#sk-container-id-1 label.sk-toggleable__label-arrow:hover:before {color: black;}#sk-container-id-1 div.sk-estimator:hover label.sk-toggleable__label-arrow:before {color: black;}#sk-container-id-1 div.sk-toggleable__content {max-height: 0;max-width: 0;overflow: hidden;text-align: left;background-color: #f0f8ff;}#sk-container-id-1 div.sk-toggleable__content pre {margin: 0.2em;color: black;border-radius: 0.25em;background-color: #f0f8ff;}#sk-container-id-1 input.sk-toggleable__control:checked~div.sk-toggleable__content {max-height: 200px;max-width: 100%;overflow: auto;}#sk-container-id-1 input.sk-toggleable__control:checked~label.sk-toggleable__label-arrow:before {content: \"▾\";}#sk-container-id-1 div.sk-estimator input.sk-toggleable__control:checked~label.sk-toggleable__label {background-color: #d4ebff;}#sk-container-id-1 div.sk-label input.sk-toggleable__control:checked~label.sk-toggleable__label {background-color: #d4ebff;}#sk-container-id-1 input.sk-hidden--visually {border: 0;clip: rect(1px 1px 1px 1px);clip: rect(1px, 1px, 1px, 1px);height: 1px;margin: -1px;overflow: hidden;padding: 0;position: absolute;width: 1px;}#sk-container-id-1 div.sk-estimator {font-family: monospace;background-color: #f0f8ff;border: 1px dotted black;border-radius: 0.25em;box-sizing: border-box;margin-bottom: 0.5em;}#sk-container-id-1 div.sk-estimator:hover {background-color: #d4ebff;}#sk-container-id-1 div.sk-parallel-item::after {content: \"\";width: 100%;border-bottom: 1px solid gray;flex-grow: 1;}#sk-container-id-1 div.sk-label:hover label.sk-toggleable__label {background-color: #d4ebff;}#sk-container-id-1 div.sk-serial::before {content: \"\";position: absolute;border-left: 1px solid gray;box-sizing: border-box;top: 0;bottom: 0;left: 50%;z-index: 0;}#sk-container-id-1 div.sk-serial {display: flex;flex-direction: column;align-items: center;background-color: white;padding-right: 0.2em;padding-left: 0.2em;position: relative;}#sk-container-id-1 div.sk-item {position: relative;z-index: 1;}#sk-container-id-1 div.sk-parallel {display: flex;align-items: stretch;justify-content: center;background-color: white;position: relative;}#sk-container-id-1 div.sk-item::before, #sk-container-id-1 div.sk-parallel-item::before {content: \"\";position: absolute;border-left: 1px solid gray;box-sizing: border-box;top: 0;bottom: 0;left: 50%;z-index: -1;}#sk-container-id-1 div.sk-parallel-item {display: flex;flex-direction: column;z-index: 1;position: relative;background-color: white;}#sk-container-id-1 div.sk-parallel-item:first-child::after {align-self: flex-end;width: 50%;}#sk-container-id-1 div.sk-parallel-item:last-child::after {align-self: flex-start;width: 50%;}#sk-container-id-1 div.sk-parallel-item:only-child::after {width: 0;}#sk-container-id-1 div.sk-dashed-wrapped {border: 1px dashed gray;margin: 0 0.4em 0.5em 0.4em;box-sizing: border-box;padding-bottom: 0.4em;background-color: white;}#sk-container-id-1 div.sk-label label {font-family: monospace;font-weight: bold;display: inline-block;line-height: 1.2em;}#sk-container-id-1 div.sk-label-container {text-align: center;}#sk-container-id-1 div.sk-container {/* jupyter's `normalize.less` sets `[hidden] { display: none; }` but bootstrap.min.css set `[hidden] { display: none !important; }` so we also need the `!important` here to be able to override the default hidden behavior on the sphinx rendered scikit-learn.org. See: https://github.com/scikit-learn/scikit-learn/issues/21755 */display: inline-block !important;position: relative;}#sk-container-id-1 div.sk-text-repr-fallback {display: none;}</style><div id=\"sk-container-id-1\" class=\"sk-top-container\"><div class=\"sk-text-repr-fallback\"><pre>RandomForestRegressor()</pre><b>In a Jupyter environment, please rerun this cell to show the HTML representation or trust the notebook. <br />On GitHub, the HTML representation is unable to render, please try loading this page with nbviewer.org.</b></div><div class=\"sk-container\" hidden><div class=\"sk-item\"><div class=\"sk-estimator sk-toggleable\"><input class=\"sk-toggleable__control sk-hidden--visually\" id=\"sk-estimator-id-1\" type=\"checkbox\" checked><label for=\"sk-estimator-id-1\" class=\"sk-toggleable__label sk-toggleable__label-arrow\">RandomForestRegressor</label><div class=\"sk-toggleable__content\"><pre>RandomForestRegressor()</pre></div></div></div></div></div>"
      ],
      "text/plain": [
       "RandomForestRegressor()"
      ]
     },
     "execution_count": 22,
     "metadata": {},
     "output_type": "execute_result"
    }
   ],
   "source": [
    "# Build a Random Forest Regressor model\n",
    "rfr = RandomForestRegressor() \n",
    "\n",
    "# Fit the model to the training data\n",
    "rfr.fit(X_train, y_train)"
   ]
  },
  {
   "cell_type": "code",
   "execution_count": 23,
   "id": "bd83ae9d",
   "metadata": {},
   "outputs": [
    {
     "name": "stdout",
     "output_type": "stream",
     "text": [
      "R-squared score for training data: 0.9769288175754218\n",
      "R-squared score for testing data: 0.9041984175586777\n"
     ]
    }
   ],
   "source": [
    "# Predict on the training and testing data\n",
    "y_train_pred = rfr.predict(X_train)\n",
    "y_test_pred = rfr.predict(X_test)\n",
    "\n",
    "# Calculate the R-squared score for the training and testing data\n",
    "r2_train = r2_score(y_train, y_train_pred)\n",
    "r2_test = r2_score(y_test, y_test_pred)\n",
    "\n",
    "# Print the R-squared scores\n",
    "print(\"R-squared score for training data:\", r2_train)\n",
    "print(\"R-squared score for testing data:\", r2_test)"
   ]
  },
  {
   "cell_type": "markdown",
   "id": "ab525b11",
   "metadata": {
    "id": "ab525b11"
   },
   "source": [
    "### 11. Create a pickle file with an extension as .pkl"
   ]
  },
  {
   "cell_type": "code",
   "execution_count": 24,
   "id": "jLj3VeCH7Spb",
   "metadata": {
    "id": "jLj3VeCH7Spb"
   },
   "outputs": [],
   "source": [
    "import pickle\n",
    "# Saving model to disk\n",
    "pickle.dump(rfr, open('model.pkl','wb'))"
   ]
  },
  {
   "cell_type": "markdown",
   "id": "26246dc9",
   "metadata": {
    "id": "26246dc9"
   },
   "source": [
    "### 12. Create new folder/new project in visual studio/pycharm that should contain the \"model.pkl\" file *make sure you are using a virutal environment and install required packages.*"
   ]
  },
  {
   "cell_type": "markdown",
   "id": "0f2bd8b3",
   "metadata": {
    "id": "0f2bd8b3"
   },
   "source": [
    "### a) Create a basic HTML form for the frontend"
   ]
  },
  {
   "cell_type": "markdown",
   "id": "d5a3da56",
   "metadata": {
    "id": "d5a3da56"
   },
   "source": [
    "Create a file **index.html** in the templates folder and copy the following code."
   ]
  },
  {
   "cell_type": "code",
   "execution_count": null,
   "id": "l6E1gBAZ7UD4",
   "metadata": {
    "id": "l6E1gBAZ7UD4"
   },
   "outputs": [],
   "source": [
    "<!DOCTYPE html>\n",
    "<html lang=\"en\">\n",
    "  <head>\n",
    "    <meta charset=\"UTF-8\" />\n",
    "    <title>ML Deployment</title>\n",
    "    <link\n",
    "      href=\"https://fonts.googleapis.com/css?family=Pacifico\"\n",
    "      rel=\"stylesheet\"\n",
    "      type=\"text/css\"\n",
    "    />\n",
    "    <link\n",
    "      href=\"https://fonts.googleapis.com/css?family=Arimo\"\n",
    "      rel=\"stylesheet\"\n",
    "      type=\"text/css\"\n",
    "    />\n",
    "    <link\n",
    "      href=\"https://fonts.googleapis.com/css?family=Hind:300\"\n",
    "      rel=\"stylesheet\"\n",
    "      type=\"text/css\"\n",
    "    />\n",
    "    <link\n",
    "      href=\"https://fonts.googleapis.com/css?family=Open+Sans+Condensed:300\"\n",
    "      rel=\"stylesheet\"\n",
    "      type=\"text/css\"\n",
    "    />\n",
    "    <link\n",
    "      rel=\"stylesheet\"\n",
    "      href=\"{{ url_for('static', filename='style.css') }}\"\n",
    "    />\n",
    "  </head>\n",
    "  <body>\n",
    "    <div class=\"login\">\n",
    "      <h1>Car Price Predictor</h1>\n",
    "      <form action=\"{{ url_for('predict')}}\" method=\"post\">\n",
    "        <h2>Enter Car Details:</h2>\n",
    "        <br />\n",
    "\n",
    "        <h3>Age of car in (In Years)</h3>\n",
    "        <input\n",
    "          id=\"first\"\n",
    "          type=\"number\"\n",
    "          name=\"Age_of_the_car\"\n",
    "          placeholder=\"Enter Age of car\"\n",
    "          required=\"required\"\n",
    "        />\n",
    "        <br />\n",
    "        <h3>Present showroom Price (In lakhs)</h3>\n",
    "\n",
    "        <input\n",
    "          id=\"second\"\n",
    "          name=\"Present_Price\"\n",
    "          required=\"required\"\n",
    "          placeholder=\"Enter showroom price\"\n",
    "        />\n",
    "        <br />\n",
    "        <h3>Kilometers Driven</h3>\n",
    "        <input\n",
    "          id=\"third\"\n",
    "          name=\"Kms_Driven\"\n",
    "          required=\"required\"\n",
    "          placeholder=\"Enter Kms Driven\"\n",
    "        />\n",
    "\n",
    "        <h3>Owner Type (0/1/3)</h3>\n",
    "\n",
    "        <input\n",
    "          id=\"fourth\"\n",
    "          name=\"Owner\"\n",
    "          required=\"required\"\n",
    "          placeholder=\"Enter Owner Type\"\n",
    "        />\n",
    "        <br />\n",
    "        <h3>Fuel Type</h3>\n",
    "\n",
    "        <select name=\"Fuel_Type\" id=\"fuel\" required=\"required\">\n",
    "          <option value=\"0\">Petrol</option>\n",
    "          <option value=\"1\">Diesel</option>\n",
    "          <option value=\"2\">CNG</option>\n",
    "        </select>\n",
    "        <br />\n",
    "        <h3>Seller Type</h3>\n",
    "\n",
    "        <select name=\"Seller_Type\" id=\"resea\" required=\"required\">\n",
    "          <option value=\"0\">Dealer</option>\n",
    "          <option value=\"1\">Individual</option>\n",
    "        </select>\n",
    "        <br />\n",
    "        <h3>Transmission Type</h3>\n",
    "\n",
    "        <select name=\"Transmission\" id=\"research\" required=\"required\">\n",
    "          <option value=\"0\">Manual Car</option>\n",
    "          <option value=\"1\">Automatic Car</option>\n",
    "        </select>\n",
    "\n",
    "        <br />\n",
    "        <br />\n",
    "        <br />\n",
    "        <button type=\"submit\" class=\"btn btn-primary btn-block btn-large\">\n",
    "          Predict\n",
    "        </button>\n",
    "      </form>\n",
    "      <br />\n",
    "      <br />\n",
    "      <div class=\"pred-text\">{{ prediction_text }}</div>\n",
    "    </div>\n",
    "  </body>\n",
    "</html>\n"
   ]
  },
  {
   "cell_type": "markdown",
   "id": "ab774e57",
   "metadata": {
    "id": "ab774e57"
   },
   "source": [
    "### b) Create app.py file and write the predict function"
   ]
  },
  {
   "cell_type": "code",
   "execution_count": null,
   "id": "9r3rWra57UuQ",
   "metadata": {
    "id": "9r3rWra57UuQ"
   },
   "outputs": [],
   "source": [
    "# importing necessary libraries and functions\n",
    "import numpy as np\n",
    "from flask import Flask, request, jsonify, render_template\n",
    "import pickle\n",
    "import sklearn\n",
    "\n",
    "#Initializing the flask App\n",
    "app = Flask(__name__) \n",
    "# loading the trained model\n",
    "model = pickle.load(open('model.pkl', 'rb')) \n",
    "\n",
    "# Homepage\n",
    "@app.route('/', methods=['GET']) \n",
    "def Home():\n",
    "    return render_template('index.html')\n",
    "\n",
    "# Predicting car price\n",
    "@app.route('/predict',methods=['POST'])\n",
    "def predict():\n",
    "    if request.method == 'POST':\n",
    "        Present_Price=float(request.form['Present_Price'])\n",
    "        Kms_Driven=int(request.form['Kms_Driven'])\n",
    "        Owner=int(request.form['Owner'])\n",
    "        Fuel_Type=request.form['Fuel_Type']\n",
    "        Age_of_the_car=request.form['Age_of_the_car']\n",
    "        Seller_Type=request.form['Seller_Type']\n",
    "        Transmission=request.form['Transmission']\n",
    "\n",
    "        prediction=model.predict([[Present_Price, Kms_Driven, Owner, Age_of_the_car, Fuel_Type, Seller_Type, Transmission]])\n",
    "        output= round(prediction[0],2)\n",
    "        return render_template('index.html', prediction_text=\"You can sell your car at {} lakhs\". format(output))\n",
    "\n",
    "if __name__ == \"__main__\":\n",
    "    app.run(debug=True)"
   ]
  },
  {
   "cell_type": "markdown",
   "id": "77c2f62d",
   "metadata": {},
   "source": [
    "### - optional CSS file (style.css) in static folder\n",
    "\n"
   ]
  },
  {
   "cell_type": "code",
   "execution_count": null,
   "id": "3ea75bce",
   "metadata": {},
   "outputs": [],
   "source": [
    "@import url(https://fonts.googleapis.com/css?family=Open+Sans);\n",
    ".btn {\n",
    "  display: inline-block;\n",
    "  padding: 4px 10px 4px;\n",
    "  margin-bottom: 0;\n",
    "  font-size: 13px;\n",
    "  line-height: 18px;\n",
    "  color: #333333;\n",
    "  text-align: center;\n",
    "  text-shadow: 0 1px 1px rgba(255, 255, 255, 0.75);\n",
    "  vertical-align: middle;\n",
    "  background-color: #f5f5f5;\n",
    "  background-image: -moz-linear-gradient(top, #ffffff, #e6e6e6);\n",
    "  background-image: -ms-linear-gradient(top, #ffffff, #e6e6e6);\n",
    "  background-image: -webkit-gradient(\n",
    "    linear,\n",
    "    0 0,\n",
    "    0 100%,\n",
    "    from(#ffffff),\n",
    "    to(#e6e6e6)\n",
    "  );\n",
    "  background-image: -webkit-linear-gradient(top, #ffffff, #e6e6e6);\n",
    "  background-image: -o-linear-gradient(top, #ffffff, #e6e6e6);\n",
    "  background-image: linear-gradient(top, #ffffff, #e6e6e6);\n",
    "  background-repeat: repeat-x;\n",
    "  filter: progid:dximagetransform.microsoft.gradient(startColorstr=#ffffff, endColorstr=#e6e6e6, GradientType=0);\n",
    "  border-color: #e6e6e6 #e6e6e6 #e6e6e6;\n",
    "  border-color: rgba(0, 0, 0, 0.1) rgba(0, 0, 0, 0.1) rgba(0, 0, 0, 0.25);\n",
    "  border: 1px solid #e6e6e6;\n",
    "  -webkit-border-radius: 4px;\n",
    "  -moz-border-radius: 4px;\n",
    "  border-radius: 4px;\n",
    "  -webkit-box-shadow: inset 0 1px 0 rgba(255, 255, 255, 0.2),\n",
    "    0 1px 2px rgba(0, 0, 0, 0.05);\n",
    "  -moz-box-shadow: inset 0 1px 0 rgba(255, 255, 255, 0.2),\n",
    "    0 1px 2px rgba(0, 0, 0, 0.05);\n",
    "  box-shadow: inset 0 1px 0 rgba(255, 255, 255, 0.2),\n",
    "    0 1px 2px rgba(0, 0, 0, 0.05);\n",
    "  cursor: pointer;\n",
    "  margin-left: 0.3em;\n",
    "}\n",
    ".btn:hover,\n",
    ".btn:active,\n",
    ".btn.active,\n",
    ".btn.disabled,\n",
    ".btn[disabled] {\n",
    "  background-color: #e6e6e6;\n",
    "}\n",
    ".btn-large {\n",
    "  padding: 9px 14px;\n",
    "  font-size: 15px;\n",
    "  line-height: normal;\n",
    "  -webkit-border-radius: 5px;\n",
    "  -moz-border-radius: 5px;\n",
    "  border-radius: 5px;\n",
    "}\n",
    ".btn:hover {\n",
    "  color: #333333;\n",
    "  text-decoration: none;\n",
    "  background-color: #e6e6e6;\n",
    "  background-position: 0 -15px;\n",
    "  -webkit-transition: background-position 0.1s linear;\n",
    "  -moz-transition: background-position 0.1s linear;\n",
    "  -ms-transition: background-position 0.1s linear;\n",
    "  -o-transition: background-position 0.1s linear;\n",
    "  transition: background-position 0.1s linear;\n",
    "}\n",
    ".btn-primary,\n",
    ".btn-primary:hover {\n",
    "  text-shadow: 0 -1px 0 rgba(0, 0, 0, 0.25);\n",
    "  color: #ffffff;\n",
    "}\n",
    ".btn-primary.active {\n",
    "  color: rgba(255, 255, 255, 0.75);\n",
    "}\n",
    ".btn-primary {\n",
    "  background-color: #4a77d4;\n",
    "  background-image: -moz-linear-gradient(top, #6eb6de, #4a77d4);\n",
    "  background-image: -ms-linear-gradient(top, #6eb6de, #4a77d4);\n",
    "  background-image: -webkit-gradient(\n",
    "    linear,\n",
    "    0 0,\n",
    "    0 100%,\n",
    "    from(#6eb6de),\n",
    "    to(#4a77d4)\n",
    "  );\n",
    "  background-image: -webkit-linear-gradient(top, #6eb6de, #4a77d4);\n",
    "  background-image: -o-linear-gradient(top, #6eb6de, #4a77d4);\n",
    "  background-image: linear-gradient(top, #6eb6de, #4a77d4);\n",
    "  background-repeat: repeat-x;\n",
    "  filter: progid:dximagetransform.microsoft.gradient(startColorstr=#6eb6de, endColorstr=#4a77d4, GradientType=0);\n",
    "  border: 1px solid #3762bc;\n",
    "  text-shadow: 1px 1px 1px rgba(0, 0, 0, 0.4);\n",
    "  box-shadow: inset 0 1px 0 rgba(255, 255, 255, 0.2),\n",
    "    0 1px 2px rgba(0, 0, 0, 0.5);\n",
    "}\n",
    "\n",
    "* {\n",
    "  -webkit-box-sizing: border-box;\n",
    "  -moz-box-sizing: border-box;\n",
    "  -ms-box-sizing: border-box;\n",
    "  -o-box-sizing: border-box;\n",
    "  box-sizing: border-box;\n",
    "}\n",
    "\n",
    "html {\n",
    "  width: 100%;\n",
    "  height: 100%;\n",
    "}\n",
    "\n",
    "body {\n",
    "  width: 100%;\n",
    "  height: 100%;\n",
    "  font-family: \"Open Sans\", sans-serif;\n",
    "  background: #092756;\n",
    "  color: #fff;\n",
    "  font-size: 18px;\n",
    "  text-align: center;\n",
    "  letter-spacing: 1.2px;\n",
    "}\n",
    "\n",
    ".login {\n",
    "  position: absolute;\n",
    "  top: 30%;\n",
    "  left: 50%;\n",
    "  margin: -150px 0 0 -150px;\n",
    "  width: 400px;\n",
    "  height: 400px;\n",
    "}\n",
    "\n",
    ".login h1 {\n",
    "  color: #fff;\n",
    "  text-shadow: 0 0 10px rgba(0, 0, 0, 0.3);\n",
    "  letter-spacing: 1px;\n",
    "  text-align: center;\n",
    "}\n",
    "\n",
    "input {\n",
    "  width: 100%;\n",
    "  margin-bottom: 20px;\n",
    "  background: rgba(0, 0, 0, 0.3);\n",
    "  border: none;\n",
    "  outline: none;\n",
    "  padding: 10px;\n",
    "  font-size: 13px;\n",
    "  color: #fff;\n",
    "  text-shadow: 1px 1px 1px rgba(0, 0, 0, 0.3);\n",
    "  border: 1px solid rgba(0, 0, 0, 0.3);\n",
    "  border-radius: 4px;\n",
    "  box-shadow: inset 0 -5px 45px rgba(100, 100, 100, 0.2),\n",
    "    0 1px 1px rgba(255, 255, 255, 0.2);\n",
    "  -webkit-transition: box-shadow 0.5s ease;\n",
    "  -moz-transition: box-shadow 0.5s ease;\n",
    "  -o-transition: box-shadow 0.5s ease;\n",
    "  -ms-transition: box-shadow 0.5s ease;\n",
    "  transition: box-shadow 0.5s ease;\n",
    "}\n",
    "\n",
    "input:focus {\n",
    "  box-shadow: inset 0 -5px 45px rgba(100, 100, 100, 0.4),\n",
    "    0 1px 1px rgba(255, 255, 255, 0.2);\n",
    "}\n",
    "\n",
    "select {\n",
    "  width: 100%;\n",
    "  margin-bottom: 20px;\n",
    "  background: rgba(0, 0, 0, 0.3);\n",
    "  border: none;\n",
    "  outline: none;\n",
    "  padding: 10px;\n",
    "  font-size: 13px;\n",
    "  color: #fff;\n",
    "  text-shadow: 1px 1px 1px rgba(0, 0, 0, 0.3);\n",
    "  border: 1px solid rgba(0, 0, 0, 0.3);\n",
    "  border-radius: 4px;\n",
    "  box-shadow: inset 0 -5px 45px rgba(100, 100, 100, 0.2),\n",
    "    0 1px 1px rgba(255, 255, 255, 0.2);\n",
    "  -webkit-transition: box-shadow 0.5s ease;\n",
    "  -moz-transition: box-shadow 0.5s ease;\n",
    "  -o-transition: box-shadow 0.5s ease;\n",
    "  -ms-transition: box-shadow 0.5s ease;\n",
    "  transition: box-shadow 0.5s ease;\n",
    "}\n",
    "\n",
    ".pred-text {\n",
    "  font-size: 30px;\n",
    "  color: white;\n",
    "  margin-bottom: 50px;\n",
    "  padding-bottom: 30px;\n",
    "}\n"
   ]
  },
  {
   "cell_type": "markdown",
   "id": "CBewpqT7MEbb",
   "metadata": {
    "id": "CBewpqT7MEbb"
   },
   "source": [
    "### 13. Run the app.py python file which will render to index html page then enter the input values and get the prediction."
   ]
  },
  {
   "cell_type": "markdown",
   "id": "6ca5074f",
   "metadata": {
    "id": "8g7gvFyD7VHN"
   },
   "source": [
    "- The app.py file is run on following link: \n",
    "http://127.0.0.1:5000"
   ]
  },
  {
   "cell_type": "markdown",
   "id": "cb280b84",
   "metadata": {},
   "source": [
    "**Predition Case 1:** <br>\n",
    "Age of car in Years - 2 <br>\n",
    "Present showroom price - 20 <br>\n",
    "Kilometers Driven - 1000 <br>\n",
    "Owner Type (0/1/3) - 0 <br>\n",
    "Fuel Type - Petrol <br>\n",
    "Seller Type - Individual <br>\n",
    "Transmission Type - Automatic Car <br>\n",
    " \n",
    "**Predition Result =  You can sell your car at 16.45 lakhs**"
   ]
  },
  {
   "cell_type": "markdown",
   "id": "dbab74e0",
   "metadata": {},
   "source": [
    "**Predition Case 2:** <br>\n",
    "Age of car in Years - 10 <br>\n",
    "Present showroom price - 10 <br>\n",
    "Kilometers Driven - 5000 <br>\n",
    "Owner Type (0/1/3) - 3 <br>\n",
    "Fuel Type - Diesel <br>\n",
    "Seller Type - Dealer <br>\n",
    "Transmission Type - Manual Car <br>\n",
    " \n",
    "**Predition Result =  You can sell your car at 7.86 lakhs**"
   ]
  },
  {
   "cell_type": "markdown",
   "id": "e899b5a2",
   "metadata": {
    "id": "e899b5a2"
   },
   "source": [
    "### Happy Learning :)"
   ]
  }
 ],
 "metadata": {
  "colab": {
   "provenance": []
  },
  "kernelspec": {
   "display_name": "Python 3 (ipykernel)",
   "language": "python",
   "name": "python3"
  },
  "language_info": {
   "codemirror_mode": {
    "name": "ipython",
    "version": 3
   },
   "file_extension": ".py",
   "mimetype": "text/x-python",
   "name": "python",
   "nbconvert_exporter": "python",
   "pygments_lexer": "ipython3",
   "version": "3.11.0"
  }
 },
 "nbformat": 4,
 "nbformat_minor": 5
}
